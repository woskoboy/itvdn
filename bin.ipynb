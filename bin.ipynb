{
 "cells": [
  {
   "cell_type": "code",
   "execution_count": 75,
   "metadata": {},
   "outputs": [
    {
     "name": "stdout",
     "output_type": "stream",
     "text": [
      "Position:15 Steps:21\n"
     ]
    }
   ],
   "source": [
    "def bin_search(numbers, item):\n",
    "    high = len(numbers) - 1\n",
    "    low = 0\n",
    "    step = 0\n",
    "    while high >= low:\n",
    "        mid = (high + low) // 2\n",
    "        guess = numbers[mid]\n",
    "        step += 1\n",
    "        if guess == item:\n",
    "            return 'Position:{} Steps:{}'.format(mid, step)\n",
    "        if item < guess:\n",
    "            high = mid - 1\n",
    "        else:\n",
    "            low = mid + 1\n",
    "    return None\n",
    "\n",
    "res = bin_search(range(0,4000001), 15)\n",
    "print(res)\n"
   ]
  }
 ],
 "metadata": {
  "kernelspec": {
   "display_name": "Python 3",
   "language": "python",
   "name": "python3"
  },
  "language_info": {
   "codemirror_mode": {
    "name": "ipython",
    "version": 3
   },
   "file_extension": ".py",
   "mimetype": "text/x-python",
   "name": "python",
   "nbconvert_exporter": "python",
   "pygments_lexer": "ipython3",
   "version": "3.4.3"
  }
 },
 "nbformat": 4,
 "nbformat_minor": 2
}
